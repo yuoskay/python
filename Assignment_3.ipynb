{
  "nbformat": 4,
  "nbformat_minor": 0,
  "metadata": {
    "colab": {
      "name": "Assignment 3.ipynb",
      "provenance": []
    },
    "kernelspec": {
      "name": "python3",
      "display_name": "Python 3"
    }
  },
  "cells": [
    {
      "cell_type": "markdown",
      "metadata": {
        "id": "3--YvZ0qKr9U"
      },
      "source": [
        "Answer 1:"
      ]
    },
    {
      "cell_type": "code",
      "metadata": {
        "id": "S0kN6vDS1ed9",
        "outputId": "cbe5dd73-ef0e-4aa1-bfcb-92b3f5e5b1ff",
        "colab": {
          "base_uri": "https://localhost:8080/"
        }
      },
      "source": [
        "Skillsanta_Dict = {\n",
        "  \"name\": \"Sachin\",\n",
        "  \"age\":22,\n",
        "  \"salary\": 60000,\n",
        "  \"city\": \"New Delhi\"\n",
        "}\n",
        "\n",
        "Skillsanta_Dict['location'] = Skillsanta_Dict.pop('city')\n",
        "print(Skillsanta_Dict)"
      ],
      "execution_count": 2,
      "outputs": [
        {
          "output_type": "stream",
          "text": [
            "{'name': 'Sachin', 'age': 22, 'salary': 60000, 'location': 'New Delhi'}\n"
          ],
          "name": "stdout"
        }
      ]
    },
    {
      "cell_type": "markdown",
      "metadata": {
        "id": "9XEmyTNdODNk"
      },
      "source": [
        "Answer 2:"
      ]
    },
    {
      "cell_type": "code",
      "metadata": {
        "id": "YTqykczv2FQD",
        "outputId": "f5c93146-1af0-4394-b2c3-8d16770381f6",
        "colab": {
          "base_uri": "https://localhost:8080/"
        }
      },
      "source": [
        "def CountFrequency(my_list): \n",
        "      \n",
        "   # Creating an empty dictionary  \n",
        "   count = {} \n",
        "   for i in [11,45,8,11,23,45,23,45,89]: \n",
        "    count[i] = count.get(i, 0) + 1\n",
        "   return count \n",
        "  \n",
        "# Driver function \n",
        "if __name__ == \"__main__\":  \n",
        "    my_list =[11,45,8,11,23,45,23,45,89] \n",
        "    print(CountFrequency(my_list)) "
      ],
      "execution_count": 3,
      "outputs": [
        {
          "output_type": "stream",
          "text": [
            "{11: 2, 45: 3, 8: 1, 23: 2, 89: 1}\n"
          ],
          "name": "stdout"
        }
      ]
    },
    {
      "cell_type": "markdown",
      "metadata": {
        "id": "_ZVp4MWqOKew"
      },
      "source": [
        "Answer 3:"
      ]
    },
    {
      "cell_type": "code",
      "metadata": {
        "id": "DruFggvB1KZ3",
        "outputId": "a5f9ec9d-8875-43a7-a041-fd5ad690b3ea",
        "colab": {
          "base_uri": "https://localhost:8080/"
        }
      },
      "source": [
        "sampleList = [87, 52, 44, 53, 54, 87, 52, 53]\n",
        "\n",
        "print(\"Original list\", sampleList)\n",
        "\n",
        "sampleList = list(set(sampleList))\n",
        "print(\"unique list\", sampleList)\n",
        "\n",
        "tuple = tuple(sampleList)\n",
        "print(\"tuple \", tuple)\n",
        "\n",
        "print(\"Minimum number is: \", min(tuple))\n",
        "print(\"Maximum number is: \", max(tuple))"
      ],
      "execution_count": 1,
      "outputs": [
        {
          "output_type": "stream",
          "text": [
            "Original list [87, 52, 44, 53, 54, 87, 52, 53]\n",
            "unique list [44, 52, 53, 54, 87]\n",
            "tuple  (44, 52, 53, 54, 87)\n",
            "Minimum number is:  44\n",
            "Maximum number is:  87\n"
          ],
          "name": "stdout"
        }
      ]
    },
    {
      "cell_type": "markdown",
      "metadata": {
        "id": "n4VQMOZQOQHK"
      },
      "source": [
        "Answer 4:"
      ]
    },
    {
      "cell_type": "code",
      "metadata": {
        "id": "PFH_p7Zj1dPd",
        "outputId": "45043ab1-9814-4948-86b2-6a14f8fb1953",
        "colab": {
          "base_uri": "https://localhost:8080/"
        }
      },
      "source": [
        "def showEmployee(name, salary=50000):\n",
        "    print(\"Employee\", name, \"salary is:\", salary)\n",
        "\n",
        "showEmployee(\"Eddy\", 50000)\n",
        "showEmployee(\"Eddy\")"
      ],
      "execution_count": 4,
      "outputs": [
        {
          "output_type": "stream",
          "text": [
            "Employee Eddy salary is: 50000\n",
            "Employee Eddy salary is: 50000\n"
          ],
          "name": "stdout"
        }
      ]
    },
    {
      "cell_type": "markdown",
      "metadata": {
        "id": "-TzPRO_5OUSd"
      },
      "source": [
        "Answer 5:"
      ]
    },
    {
      "cell_type": "code",
      "metadata": {
        "id": "IfGyPBZI7bRq",
        "outputId": "0459ad47-efc4-4c79-988c-bd81b41bc043",
        "colab": {
          "base_uri": "https://localhost:8080/"
        }
      },
      "source": [
        "def outerFun(a, b):\n",
        "    square = a**2\n",
        "    def innerFun(a,b):\n",
        "        return a+b\n",
        "    add = innerFun(a, b)\n",
        "    return add+5\n",
        "\n",
        "result = outerFun(5, 10)\n",
        "print(result)"
      ],
      "execution_count": 5,
      "outputs": [
        {
          "output_type": "stream",
          "text": [
            "20\n"
          ],
          "name": "stdout"
        }
      ]
    },
    {
      "cell_type": "markdown",
      "metadata": {
        "id": "fYYvlg2EOXR_"
      },
      "source": [
        "Answer 6:"
      ]
    },
    {
      "cell_type": "code",
      "metadata": {
        "id": "dWSl5P0i8hOr",
        "outputId": "9382c141-1b9d-47a4-9d6e-43b6bf9313b9",
        "colab": {
          "base_uri": "https://localhost:8080/"
        }
      },
      "source": [
        "# Python program to display the Fibonacci sequence\n",
        "\n",
        "def recur_fibo(n):\n",
        "   if n <= 1:\n",
        "       return n\n",
        "   else:\n",
        "       return(recur_fibo(n-1) + recur_fibo(n-2))\n",
        "\n",
        "nterms = 10\n",
        "\n",
        "# check if the number of terms is valid\n",
        "if nterms <= 0:\n",
        "   print(\"Plese enter a positive integer\")\n",
        "else:\n",
        "   print(\"Fibonacci sequence:\")\n",
        "   for i in range(nterms):\n",
        "       print(recur_fibo(i))"
      ],
      "execution_count": 6,
      "outputs": [
        {
          "output_type": "stream",
          "text": [
            "Fibonacci sequence:\n",
            "0\n",
            "1\n",
            "1\n",
            "2\n",
            "3\n",
            "5\n",
            "8\n",
            "13\n",
            "21\n",
            "34\n"
          ],
          "name": "stdout"
        }
      ]
    },
    {
      "cell_type": "markdown",
      "metadata": {
        "id": "HMCJfM5POa9D"
      },
      "source": [
        "Answer 7:"
      ]
    },
    {
      "cell_type": "code",
      "metadata": {
        "id": "JDXFZnkr-tvE",
        "outputId": "41c36626-a249-4ed5-dc13-f05534c8dd30",
        "colab": {
          "base_uri": "https://localhost:8080/"
        }
      },
      "source": [
        "def displayStudent(name, age):\n",
        "    print(name, age)\n",
        "\n",
        "displayStudent(\"Eddy\", 22)\n",
        "\n",
        "showStudent = displayStudent\n",
        "showStudent(\"Eddy\", 22)"
      ],
      "execution_count": 7,
      "outputs": [
        {
          "output_type": "stream",
          "text": [
            "Eddy 22\n",
            "Eddy 22\n"
          ],
          "name": "stdout"
        }
      ]
    },
    {
      "cell_type": "markdown",
      "metadata": {
        "id": "0QJYNvsZOdyn"
      },
      "source": [
        "Answer 8:"
      ]
    },
    {
      "cell_type": "code",
      "metadata": {
        "id": "LbRrAQ8LGFn4",
        "outputId": "533c74b9-07e1-4f52-d4e7-d0e458f64e23",
        "colab": {
          "base_uri": "https://localhost:8080/"
        }
      },
      "source": [
        "while True:\n",
        "    num = input(\"Please enter your mobile number \")\n",
        "    try:\n",
        "        val = int(num)\n",
        "        print(\"Mobile number is: \", val)\n",
        "        break;\n",
        "    except ValueError:\n",
        "        try:\n",
        "            float(num)\n",
        "            print(\"Mobile number can not have symbols\")\n",
        "           \n",
        "            break;\n",
        "        except ValueError:\n",
        "            print(\"This is not a number. Please enter a valid number\")\n"
      ],
      "execution_count": 17,
      "outputs": [
        {
          "output_type": "stream",
          "text": [
            "Please enter your mobile number Eddy\n",
            "This is not a number. Please enter a valid number\n",
            "Please enter your mobile number 9999999999\n",
            "Mobile number is:  9999999999\n"
          ],
          "name": "stdout"
        }
      ]
    },
    {
      "cell_type": "markdown",
      "metadata": {
        "id": "iXxk4oAzOhVY"
      },
      "source": [
        "Answer 9:"
      ]
    },
    {
      "cell_type": "code",
      "metadata": {
        "id": "sABlaI02IeUD",
        "outputId": "8d2307dc-ca15-43d5-f9f3-adbb847e47d5",
        "colab": {
          "base_uri": "https://localhost:8080/"
        }
      },
      "source": [
        "def up_low(s):      \n",
        "    u = sum(1 for i in s if i.isupper())\n",
        "    l = sum(1 for i in s if i.islower())\n",
        "    print( \"No. of Upper case characters : %s,No. of Lower case characters : %s\" % (u,l))\n",
        "\n",
        "up_low(\"The quick Brown Fox\")"
      ],
      "execution_count": 18,
      "outputs": [
        {
          "output_type": "stream",
          "text": [
            "No. of Upper case characters : 3,No. of Lower case characters : 13\n"
          ],
          "name": "stdout"
        }
      ]
    },
    {
      "cell_type": "markdown",
      "metadata": {
        "id": "FJ20DEEeOju-"
      },
      "source": [
        "Answer 10:"
      ]
    },
    {
      "cell_type": "code",
      "metadata": {
        "id": "GV2Tuhm9KpDD",
        "outputId": "74cdc895-ef99-4336-c568-9158eeb0cc82",
        "colab": {
          "base_uri": "https://localhost:8080/"
        }
      },
      "source": [
        "n = int(input(\"Enter any number: \"))\n",
        "sum1 = 0\n",
        "for i in range(1, n):\n",
        "    if(n % i == 0):\n",
        "        sum1 = sum1 + i\n",
        "if (sum1 == n):\n",
        "    print(\"The number is a Perfect number!\")\n",
        "else:\n",
        "    print(\"The number is not a Perfect number!\")"
      ],
      "execution_count": 19,
      "outputs": [
        {
          "output_type": "stream",
          "text": [
            "Enter any number: 496\n",
            "The number is a Perfect number!\n"
          ],
          "name": "stdout"
        }
      ]
    }
  ]
}